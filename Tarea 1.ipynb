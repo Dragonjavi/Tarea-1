{
 "cells": [
  {
   "attachments": {},
   "cell_type": "markdown",
   "metadata": {},
   "source": [
    " # VCSs (version de control del sistema)\n",
    "\n",
    "##### Son herramientas que se utilizan para realizar un seguimiento de los cambios en el codigo fuente, son herramientas ayudan a mantener un historial de los cambios. en pocas palabras usa metadatos."
   ]
  },
  {
   "attachments": {},
   "cell_type": "markdown",
   "metadata": {},
   "source": [
    "##### Por que es útil el control de versiones, es debido que permite ver instantaneas antiguas de un proyecto, mantener un registro de por que se realizaron. los VCSs modernos te avisa quien hizo una coreccion, te dice por quien fue editado, que edito.    "
   ]
  },
  {
   "attachments": {},
   "cell_type": "markdown",
   "metadata": {},
   "source": [
    "## Git data modelo\n",
    "\n",
    "##### Hay muchos enfoques que podria uno tomar para el control de versiones. Git tiene un modelo bien pensado que habilita todas las buenas caracteristicas del control de versiones, como mantener el historial, permitir colaboracion. \n",
    "\n",
    "### Instananeas\n",
    "\n",
    "##### Git guarda el archivo como si fuera una instantanea, en la terminologia de Git, un archivo se llama *(blob)gota* solo son bytes. Un directorio se llama *arbol* este asigna blobs o arboles, lo cual el arbol es de nivel superior del que se realiza un seguimiento.\n",
    "\n",
    "### Modelacion del historial: relacionado con las instantaneas\n",
    "\n",
    "##### Un modelo simple sería tener una historia lineal. Un historial sería una lista de instantáneas en orden de tiempo. En Git, un historial es un **gráfico acíclico** dirigido (DAG) de instantáneas. Eso puede sonar como una palabra matemática elegante, pero no se deje intimidar.\n",
    "\n",
    "### Objetos y direcciones de contenido\n",
    "\n",
    "##### Los blobs y los arboles, as confirmaciones se unifican de esta manera todos son objetos. Cuando hacen referencia a otros objetos, en realidad no los contienen en su representación en disco, pero tienen una referencia a ellos por su hash.\n",
    "\n",
    "### Referencias \n",
    "\n",
    "##### Ahora, todas las instantáneas se pueden identificar por sus hashes SHA-1. Eso es un inconveniente, porque los humanos no son buenos para recordar cadenas de 40 caracteres hexadecimales. La solución de Git a este problema son los nombres legibles por humanos para los hashes SHA-1, llamados \"referencias\". Las referencias son punteros a confirmaciones. A diferencia de los objetos, que son inmutables, las referencias son mutables (se pueden actualizar para apuntar a una nueva confirmación). Por ejemplo, la referencia maestra generalmente apunta a la última confirmación en la rama principal de desarrollo.\n",
    "\n",
    "### Repositorios\n",
    "\n",
    "##### Un repositorio de Git son los objetos de datos y las referencias en el disco, todas las tiendas de Git son objetos y referencias: eso es todo lo que hay en el modelo de datos de Git. Todos los comandos de git se asignan a alguna manipulación del DAG de confirmación agregando objetos y agregando/actualizando referencias.\n",
    "\n",
    "## Area de ensayo \n",
    "\n",
    "##### Una forma en la que puede imaginar la implementacion de instantaneas como se describe anteriormente es tener un comando *crear instantanea* que crea una nueva instantanea basada en el estado actual del directorio de trabajo. Git se adapta a tales escenarios al permitirle especificar que modificaciones deben incluirse en la siguiente instantanea a traves de un mecanismo llamado *area de preparacion*.\n",
    "\n",
    "## Comandos de git de la interfaz\n",
    "\n",
    "1.  Basicos\n",
    " + git help <command>: comando de ayuda.\n",
    " + git init: crea un nuevo git.\n",
    " + git status: Te dice como vamos.\n",
    " + git add <filename>: agrega un nuevo file.\n",
    " + git commit: crea un nuevo commit.\n",
    " + git log: registro aplanado.\n",
    " + git checkout <revision>: Actualiza el encabezado y la ram actual.\n",
    "2.  Ramificacion y union\n",
    " + git branch: enseña las ramas.\n",
    " + git branch <name>: crea una nueva rama.\n",
    " + git checkout -b <name>: Crea un emparedado y ramas en el. \n",
    " + git merge <revision>: revisa la union.\n",
    " + git mergetool: Utiliza una herramienta elegante para resolver las uniones.  \n",
    "3.  Remotos\n",
    " + git remote: lista de remotos.\n",
    " + git remote add <name> <url>: agrega un remoto.\n",
    " + git push <remote> <local branch>:<remote branch>: Manda los objetos a remoto, y los actualiza. \n",
    " + git branch --set-upstream-to=<remote>/<remote branch>: hace una correspondencia entre la rama local y el remoto.\n",
    " + git fetch: Recupera objetos.\n",
    " + git clone: descarga el repositorio de un control remoto. \n",
    "\n",
    "\n",
    "\n"
   ]
  }
 ],
 "metadata": {
  "kernelspec": {
   "display_name": "base",
   "language": "python",
   "name": "python3"
  },
  "language_info": {
   "codemirror_mode": {
    "name": "ipython",
    "version": 3
   },
   "file_extension": ".py",
   "mimetype": "text/x-python",
   "name": "python",
   "nbconvert_exporter": "python",
   "pygments_lexer": "ipython3",
   "version": "3.9.13"
  },
  "orig_nbformat": 4,
  "vscode": {
   "interpreter": {
    "hash": "cfa68b48b57c7a447ef2d235d704585b29b076adb28fa4ae0c86ef5c98294ba6"
   }
  }
 },
 "nbformat": 4,
 "nbformat_minor": 2
}
